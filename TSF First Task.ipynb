{
 "cells": [
  {
   "cell_type": "markdown",
   "id": "9b876bee",
   "metadata": {},
   "source": []
  },
  {
   "cell_type": "markdown",
   "id": "65ce340c",
   "metadata": {},
   "source": [
    "## My First Task : Prediction using Supervised ML\n",
    "### Graduate Rotational Internship Program at The Spark Foundation\n",
    "##### Statement  : What will be predicted score if a student studies for 9.25 hrs/ day?\n",
    "### By Sudarshan Dev Surywanshi\n"
   ]
  },
  {
   "cell_type": "markdown",
   "id": "fe817b66",
   "metadata": {},
   "source": [
    "## 1. Importing Required Libraries"
   ]
  },
  {
   "cell_type": "code",
   "execution_count": 370,
   "id": "9c4a0822",
   "metadata": {},
   "outputs": [],
   "source": [
    "import pandas as pd # Load the Pandas libraries with alias 'pd' \n",
    "import numpy as np # NumPy is a Python library used for working with arrays\n",
    "import matplotlib.pyplot as plt # visualization library in Python for 2D plots of arrays"
   ]
  },
  {
   "cell_type": "code",
   "execution_count": 371,
   "id": "3a02a080",
   "metadata": {},
   "outputs": [],
   "source": [
    "import seaborn as sns\n",
    "import statsmodels.formula.api as smf\n",
    "import statsmodels.api as sm\n",
    "from statsmodels.graphics.regressionplots import influence_plot"
   ]
  },
  {
   "cell_type": "markdown",
   "id": "3bceca75",
   "metadata": {},
   "source": [
    "## 2.Dataset imported"
   ]
  },
  {
   "cell_type": "code",
   "execution_count": 372,
   "id": "70b3125d",
   "metadata": {},
   "outputs": [
    {
     "data": {
      "text/html": [
       "<div>\n",
       "<style scoped>\n",
       "    .dataframe tbody tr th:only-of-type {\n",
       "        vertical-align: middle;\n",
       "    }\n",
       "\n",
       "    .dataframe tbody tr th {\n",
       "        vertical-align: top;\n",
       "    }\n",
       "\n",
       "    .dataframe thead th {\n",
       "        text-align: right;\n",
       "    }\n",
       "</style>\n",
       "<table border=\"1\" class=\"dataframe\">\n",
       "  <thead>\n",
       "    <tr style=\"text-align: right;\">\n",
       "      <th></th>\n",
       "      <th>Hours</th>\n",
       "      <th>Scores</th>\n",
       "    </tr>\n",
       "  </thead>\n",
       "  <tbody>\n",
       "    <tr>\n",
       "      <th>0</th>\n",
       "      <td>2.5</td>\n",
       "      <td>21</td>\n",
       "    </tr>\n",
       "    <tr>\n",
       "      <th>1</th>\n",
       "      <td>5.1</td>\n",
       "      <td>47</td>\n",
       "    </tr>\n",
       "    <tr>\n",
       "      <th>2</th>\n",
       "      <td>3.2</td>\n",
       "      <td>27</td>\n",
       "    </tr>\n",
       "    <tr>\n",
       "      <th>3</th>\n",
       "      <td>8.5</td>\n",
       "      <td>75</td>\n",
       "    </tr>\n",
       "    <tr>\n",
       "      <th>4</th>\n",
       "      <td>3.5</td>\n",
       "      <td>30</td>\n",
       "    </tr>\n",
       "    <tr>\n",
       "      <th>5</th>\n",
       "      <td>1.5</td>\n",
       "      <td>20</td>\n",
       "    </tr>\n",
       "    <tr>\n",
       "      <th>6</th>\n",
       "      <td>9.2</td>\n",
       "      <td>88</td>\n",
       "    </tr>\n",
       "    <tr>\n",
       "      <th>7</th>\n",
       "      <td>5.5</td>\n",
       "      <td>60</td>\n",
       "    </tr>\n",
       "    <tr>\n",
       "      <th>8</th>\n",
       "      <td>8.3</td>\n",
       "      <td>81</td>\n",
       "    </tr>\n",
       "    <tr>\n",
       "      <th>9</th>\n",
       "      <td>2.7</td>\n",
       "      <td>25</td>\n",
       "    </tr>\n",
       "  </tbody>\n",
       "</table>\n",
       "</div>"
      ],
      "text/plain": [
       "   Hours  Scores\n",
       "0    2.5      21\n",
       "1    5.1      47\n",
       "2    3.2      27\n",
       "3    8.5      75\n",
       "4    3.5      30\n",
       "5    1.5      20\n",
       "6    9.2      88\n",
       "7    5.5      60\n",
       "8    8.3      81\n",
       "9    2.7      25"
      ]
     },
     "execution_count": 372,
     "metadata": {},
     "output_type": "execute_result"
    }
   ],
   "source": [
    "dataset_link = \"https://raw.githubusercontent.com/AdiPersonalWorks/Random/master/student_scores%20-%20student_scores.csv\"\n",
    "dataset = pd.read_csv(dataset_link)\n",
    "dataset.head(10)"
   ]
  },
  {
   "cell_type": "markdown",
   "id": "3d19396c",
   "metadata": {},
   "source": [
    "\n",
    "## 3.Exploratory Data Analysis | Introduction to Exploratory \n",
    "#### EDA is a process of examining the data, extracting insights of the data"
   ]
  },
  {
   "cell_type": "code",
   "execution_count": 373,
   "id": "5694fad9",
   "metadata": {
    "scrolled": true
   },
   "outputs": [
    {
     "data": {
      "text/plain": [
       "(25, 2)"
      ]
     },
     "execution_count": 373,
     "metadata": {},
     "output_type": "execute_result"
    }
   ],
   "source": [
    "dataset.shape #Rows = 25, Columns (Hours & Scores) = 2"
   ]
  },
  {
   "cell_type": "code",
   "execution_count": 374,
   "id": "b13d6e8b",
   "metadata": {
    "scrolled": false
   },
   "outputs": [
    {
     "name": "stdout",
     "output_type": "stream",
     "text": [
      "<class 'pandas.core.frame.DataFrame'>\n",
      "RangeIndex: 25 entries, 0 to 24\n",
      "Data columns (total 2 columns):\n",
      " #   Column  Non-Null Count  Dtype  \n",
      "---  ------  --------------  -----  \n",
      " 0   Hours   25 non-null     float64\n",
      " 1   Scores  25 non-null     int64  \n",
      "dtypes: float64(1), int64(1)\n",
      "memory usage: 528.0 bytes\n"
     ]
    }
   ],
   "source": [
    "dataset.info()"
   ]
  },
  {
   "cell_type": "markdown",
   "id": "063b3668",
   "metadata": {},
   "source": [
    "###### 25 Rows from 0 to 24 and total two Columns with no null "
   ]
  },
  {
   "cell_type": "code",
   "execution_count": 375,
   "id": "40b343ca",
   "metadata": {
    "scrolled": false
   },
   "outputs": [
    {
     "data": {
      "text/html": [
       "<div>\n",
       "<style scoped>\n",
       "    .dataframe tbody tr th:only-of-type {\n",
       "        vertical-align: middle;\n",
       "    }\n",
       "\n",
       "    .dataframe tbody tr th {\n",
       "        vertical-align: top;\n",
       "    }\n",
       "\n",
       "    .dataframe thead th {\n",
       "        text-align: right;\n",
       "    }\n",
       "</style>\n",
       "<table border=\"1\" class=\"dataframe\">\n",
       "  <thead>\n",
       "    <tr style=\"text-align: right;\">\n",
       "      <th></th>\n",
       "      <th>Hours</th>\n",
       "      <th>Scores</th>\n",
       "    </tr>\n",
       "  </thead>\n",
       "  <tbody>\n",
       "    <tr>\n",
       "      <th>count</th>\n",
       "      <td>25.000000</td>\n",
       "      <td>25.000000</td>\n",
       "    </tr>\n",
       "    <tr>\n",
       "      <th>mean</th>\n",
       "      <td>5.012000</td>\n",
       "      <td>51.480000</td>\n",
       "    </tr>\n",
       "    <tr>\n",
       "      <th>std</th>\n",
       "      <td>2.525094</td>\n",
       "      <td>25.286887</td>\n",
       "    </tr>\n",
       "    <tr>\n",
       "      <th>min</th>\n",
       "      <td>1.100000</td>\n",
       "      <td>17.000000</td>\n",
       "    </tr>\n",
       "    <tr>\n",
       "      <th>25%</th>\n",
       "      <td>2.700000</td>\n",
       "      <td>30.000000</td>\n",
       "    </tr>\n",
       "    <tr>\n",
       "      <th>50%</th>\n",
       "      <td>4.800000</td>\n",
       "      <td>47.000000</td>\n",
       "    </tr>\n",
       "    <tr>\n",
       "      <th>75%</th>\n",
       "      <td>7.400000</td>\n",
       "      <td>75.000000</td>\n",
       "    </tr>\n",
       "    <tr>\n",
       "      <th>max</th>\n",
       "      <td>9.200000</td>\n",
       "      <td>95.000000</td>\n",
       "    </tr>\n",
       "  </tbody>\n",
       "</table>\n",
       "</div>"
      ],
      "text/plain": [
       "           Hours     Scores\n",
       "count  25.000000  25.000000\n",
       "mean    5.012000  51.480000\n",
       "std     2.525094  25.286887\n",
       "min     1.100000  17.000000\n",
       "25%     2.700000  30.000000\n",
       "50%     4.800000  47.000000\n",
       "75%     7.400000  75.000000\n",
       "max     9.200000  95.000000"
      ]
     },
     "execution_count": 375,
     "metadata": {},
     "output_type": "execute_result"
    }
   ],
   "source": [
    "dataset.describe()"
   ]
  },
  {
   "cell_type": "markdown",
   "id": "bfcd490d",
   "metadata": {},
   "source": [
    "###### Here we have some information that if the students will take minimum 1.10 hours so they will obtain approximate minimum score 17 and if the students will take maximum 9.2 hours then they will obtain approximate maximum score 95.0"
   ]
  },
  {
   "cell_type": "code",
   "execution_count": 376,
   "id": "17edbc08",
   "metadata": {
    "scrolled": false
   },
   "outputs": [
    {
     "data": {
      "text/plain": [
       "Hours     0\n",
       "Scores    0\n",
       "dtype: int64"
      ]
     },
     "execution_count": 376,
     "metadata": {},
     "output_type": "execute_result"
    }
   ],
   "source": [
    "dataset.isnull().sum()"
   ]
  },
  {
   "cell_type": "code",
   "execution_count": 377,
   "id": "f7ea9316",
   "metadata": {
    "scrolled": false
   },
   "outputs": [
    {
     "data": {
      "text/plain": [
       "False"
      ]
     },
     "execution_count": 377,
     "metadata": {},
     "output_type": "execute_result"
    }
   ],
   "source": [
    "dataset.isnull().values.any()"
   ]
  },
  {
   "cell_type": "markdown",
   "id": "46045496",
   "metadata": {},
   "source": [
    "######  False, No missing value occuring"
   ]
  },
  {
   "cell_type": "code",
   "execution_count": 378,
   "id": "d1cdd774",
   "metadata": {
    "scrolled": false
   },
   "outputs": [
    {
     "data": {
      "text/html": [
       "<div>\n",
       "<style scoped>\n",
       "    .dataframe tbody tr th:only-of-type {\n",
       "        vertical-align: middle;\n",
       "    }\n",
       "\n",
       "    .dataframe tbody tr th {\n",
       "        vertical-align: top;\n",
       "    }\n",
       "\n",
       "    .dataframe thead th {\n",
       "        text-align: right;\n",
       "    }\n",
       "</style>\n",
       "<table border=\"1\" class=\"dataframe\">\n",
       "  <thead>\n",
       "    <tr style=\"text-align: right;\">\n",
       "      <th></th>\n",
       "      <th>Hours</th>\n",
       "      <th>Scores</th>\n",
       "    </tr>\n",
       "  </thead>\n",
       "  <tbody>\n",
       "    <tr>\n",
       "      <th>Hours</th>\n",
       "      <td>1.000000</td>\n",
       "      <td>0.976191</td>\n",
       "    </tr>\n",
       "    <tr>\n",
       "      <th>Scores</th>\n",
       "      <td>0.976191</td>\n",
       "      <td>1.000000</td>\n",
       "    </tr>\n",
       "  </tbody>\n",
       "</table>\n",
       "</div>"
      ],
      "text/plain": [
       "           Hours    Scores\n",
       "Hours   1.000000  0.976191\n",
       "Scores  0.976191  1.000000"
      ]
     },
     "execution_count": 378,
     "metadata": {},
     "output_type": "execute_result"
    }
   ],
   "source": [
    "dataset.corr()"
   ]
  },
  {
   "cell_type": "markdown",
   "id": "ae7e7d24",
   "metadata": {},
   "source": [
    "## 4.Visualisation \n",
    "#### a) UNIVARIATE DENSITY PLOT"
   ]
  },
  {
   "cell_type": "code",
   "execution_count": 379,
   "id": "a75127e4",
   "metadata": {
    "scrolled": false
   },
   "outputs": [
    {
     "name": "stderr",
     "output_type": "stream",
     "text": [
      "C:\\Users\\User\\Anaconda\\lib\\site-packages\\seaborn\\distributions.py:2557: FutureWarning: `distplot` is a deprecated function and will be removed in a future version. Please adapt your code to use either `displot` (a figure-level function with similar flexibility) or `histplot` (an axes-level function for histograms).\n",
      "  warnings.warn(msg, FutureWarning)\n"
     ]
    },
    {
     "data": {
      "text/plain": [
       "<AxesSubplot:xlabel='Hours', ylabel='Density'>"
      ]
     },
     "execution_count": 379,
     "metadata": {},
     "output_type": "execute_result"
    },
    {
     "data": {
      "image/png": "[encoded data removed]",
      "text/plain": [
       "<Figure size 432x288 with 1 Axes>"
      ]
     },
     "metadata": {
      "needs_background": "light"
     },
     "output_type": "display_data"
    }
   ],
   "source": [
    "sns.distplot(dataset['Hours'])\n"
   ]
  },
  {
   "cell_type": "code",
   "execution_count": 380,
   "id": "8c8fa7b0",
   "metadata": {
    "scrolled": true
   },
   "outputs": [
    {
     "name": "stderr",
     "output_type": "stream",
     "text": [
      "C:\\Users\\User\\Anaconda\\lib\\site-packages\\seaborn\\distributions.py:2557: FutureWarning: `distplot` is a deprecated function and will be removed in a future version. Please adapt your code to use either `displot` (a figure-level function with similar flexibility) or `histplot` (an axes-level function for histograms).\n",
      "  warnings.warn(msg, FutureWarning)\n"
     ]
    },
    {
     "data": {
      "text/plain": [
       "<AxesSubplot:xlabel='Scores', ylabel='Density'>"
      ]
     },
     "execution_count": 380,
     "metadata": {},
     "output_type": "execute_result"
    },
    {
     "data": {
      "image/png": "[encoded data removed]",
      "text/plain": [
       "<Figure size 432x288 with 1 Axes>"
      ]
     },
     "metadata": {
      "needs_background": "light"
     },
     "output_type": "display_data"
    }
   ],
   "source": [
    "sns.distplot(dataset['Scores'])"
   ]
  },
  {
   "cell_type": "markdown",
   "id": "b6a80d3c",
   "metadata": {},
   "source": [
    "#### b). BIVARIATE LINEAR REGRESSION PLOT"
   ]
  },
  {
   "cell_type": "code",
   "execution_count": 381,
   "id": "05972d98",
   "metadata": {
    "scrolled": true
   },
   "outputs": [
    {
     "data": {
      "text/plain": [
       "<AxesSubplot:xlabel='Hours', ylabel='Scores'>"
      ]
     },
     "execution_count": 381,
     "metadata": {},
     "output_type": "execute_result"
    },
    {
     "data": {
      "image/png": "[encoded data removed]",
      "text/plain": [
       "<Figure size 432x288 with 1 Axes>"
      ]
     },
     "metadata": {
      "needs_background": "light"
     },
     "output_type": "display_data"
    }
   ],
   "source": [
    "sns.regplot(x=\"Hours\",y=\"Scores\",data=dataset)"
   ]
  },
  {
   "cell_type": "code",
   "execution_count": 382,
   "id": "24020114",
   "metadata": {
    "scrolled": true
   },
   "outputs": [
    {
     "name": "stderr",
     "output_type": "stream",
     "text": [
      "C:\\Users\\User\\Anaconda\\lib\\site-packages\\seaborn\\axisgrid.py:1969: UserWarning: The `size` parameter has been renamed to `height`; please update your code.\n",
      "  warnings.warn(msg, UserWarning)\n"
     ]
    },
    {
     "data": {
      "image/png": "[encoded data removed]",
      "text/plain": [
       "<Figure size 288x288 with 1 Axes>"
      ]
     },
     "metadata": {
      "needs_background": "light"
     },
     "output_type": "display_data"
    }
   ],
   "source": [
    "# Using pairplot we'll visualize the data for correlation\n",
    "sns.pairplot(dataset, x_vars=['Hours'], \n",
    "             y_vars='Scores', size=4, aspect=1, kind='scatter')\n",
    "plt.show()"
   ]
  },
  {
   "cell_type": "code",
   "execution_count": 383,
   "id": "0a4fecf7",
   "metadata": {
    "scrolled": true
   },
   "outputs": [
    {
     "data": {
      "image/png": "[encoded data removed]",
      "text/plain": [
       "<Figure size 432x288 with 2 Axes>"
      ]
     },
     "metadata": {
      "needs_background": "light"
     },
     "output_type": "display_data"
    }
   ],
   "source": [
    "# Visualizing the data using heatmap\n",
    "sns.heatmap(dataset.corr(), cmap=\"Blues\", annot = True)\n",
    "plt.show()"
   ]
  },
  {
   "cell_type": "code",
   "execution_count": 384,
   "id": "b2e048e1",
   "metadata": {},
   "outputs": [],
   "source": [
    "# Creating X and y\n",
    "X = dataset['Hours']\n",
    "y = dataset['Scores']"
   ]
  },
  {
   "cell_type": "code",
   "execution_count": 385,
   "id": "94dc5150",
   "metadata": {},
   "outputs": [],
   "source": [
    "\n",
    "X = dataset.iloc[:, :-1].values  \n",
    "y = dataset.iloc[:, 1].values"
   ]
  },
  {
   "cell_type": "code",
   "execution_count": 386,
   "id": "7c39179b",
   "metadata": {
    "scrolled": false
   },
   "outputs": [
    {
     "data": {
      "text/plain": [
       "array([[ 1.1, 17. ],\n",
       "       [ 1.5, 20. ],\n",
       "       [ 1.9, 24. ],\n",
       "       [ 2.5, 21. ],\n",
       "       [ 2.5, 30. ],\n",
       "       [ 2.7, 25. ],\n",
       "       [ 2.7, 30. ],\n",
       "       [ 3.2, 27. ],\n",
       "       [ 3.3, 42. ],\n",
       "       [ 3.5, 30. ],\n",
       "       [ 3.8, 35. ],\n",
       "       [ 4.5, 41. ],\n",
       "       [ 4.8, 54. ],\n",
       "       [ 5.1, 47. ],\n",
       "       [ 5.5, 60. ],\n",
       "       [ 5.9, 62. ],\n",
       "       [ 6.1, 67. ],\n",
       "       [ 6.9, 76. ],\n",
       "       [ 7.4, 69. ],\n",
       "       [ 7.7, 85. ],\n",
       "       [ 7.8, 86. ],\n",
       "       [ 8.3, 81. ],\n",
       "       [ 8.5, 75. ],\n",
       "       [ 8.9, 95. ],\n",
       "       [ 9.2, 88. ]])"
      ]
     },
     "execution_count": 386,
     "metadata": {},
     "output_type": "execute_result"
    }
   ],
   "source": [
    "dataset.sort_values(by=['Hours', 'Scores']).values"
   ]
  },
  {
   "cell_type": "markdown",
   "id": "7dbe430e",
   "metadata": {},
   "source": [
    "## 5.Train and Test Split"
   ]
  },
  {
   "cell_type": "code",
   "execution_count": 387,
   "id": "d397ffd8",
   "metadata": {},
   "outputs": [],
   "source": [
    "# Splitting the varaibles as training and testing\n",
    "from sklearn.model_selection import train_test_split\n",
    "X_train, X_test, y_train, y_test = train_test_split(X, y, train_size = 0.7,test_size = 0.3, random_state = 100)                                                     "
   ]
  },
  {
   "cell_type": "code",
   "execution_count": 388,
   "id": "46fadf0b",
   "metadata": {},
   "outputs": [
    {
     "data": {
      "text/plain": [
       "array([88, 41, 30, 86, 21, 47, 30, 17, 24, 67, 27, 85, 30, 95, 60, 75, 81],\n",
       "      dtype=int64)"
      ]
     },
     "execution_count": 388,
     "metadata": {},
     "output_type": "execute_result"
    }
   ],
   "source": [
    "# Take a look at the train dataset\n",
    "X_train\n",
    "y_train"
   ]
  },
  {
   "cell_type": "markdown",
   "id": "394d64cc",
   "metadata": {},
   "source": [
    "###### X_train & y_train data looks like this after splitting."
   ]
  },
  {
   "cell_type": "markdown",
   "id": "a902801c",
   "metadata": {},
   "source": [
    "## 6.(a) Building and training the model"
   ]
  },
  {
   "cell_type": "markdown",
   "id": "ba809b1a",
   "metadata": {},
   "source": [
    "##### We need to import the statsmodel package to build the model\n",
    "##### equation y =  mX + c\n",
    "##### Importing Statsmodels.api library from Statsmodel package"
   ]
  },
  {
   "cell_type": "code",
   "execution_count": 389,
   "id": "ebb3bd93",
   "metadata": {},
   "outputs": [],
   "source": [
    "import statsmodels.api as sm\n",
    "# Adding a constant to get an intercept\n",
    "X_train_sm = sm.add_constant(X_train)"
   ]
  },
  {
   "cell_type": "code",
   "execution_count": 390,
   "id": "4e2cc403",
   "metadata": {},
   "outputs": [
    {
     "data": {
      "text/plain": [
       "array([1.49514211, 9.87171443])"
      ]
     },
     "execution_count": 390,
     "metadata": {},
     "output_type": "execute_result"
    }
   ],
   "source": [
    "# Fitting the resgression line using 'OLS'\n",
    "lr = sm.OLS(y_train, X_train_sm).fit()\n",
    "\n",
    "# Printing the parameters\n",
    "lr.params"
   ]
  },
  {
   "cell_type": "code",
   "execution_count": 391,
   "id": "f4d1e027",
   "metadata": {
    "scrolled": true
   },
   "outputs": [
    {
     "name": "stderr",
     "output_type": "stream",
     "text": [
      "C:\\Users\\User\\Anaconda\\lib\\site-packages\\scipy\\stats\\stats.py:1603: UserWarning: kurtosistest only valid for n>=20 ... continuing anyway, n=17\n",
      "  warnings.warn(\"kurtosistest only valid for n>=20 ... continuing \"\n"
     ]
    },
    {
     "data": {
      "text/html": [
       "<table class=\"simpletable\">\n",
       "<caption>OLS Regression Results</caption>\n",
       "<tr>\n",
       "  <th>Dep. Variable:</th>            <td>y</td>        <th>  R-squared:         </th> <td>   0.957</td>\n",
       "</tr>\n",
       "<tr>\n",
       "  <th>Model:</th>                   <td>OLS</td>       <th>  Adj. R-squared:    </th> <td>   0.954</td>\n",
       "</tr>\n",
       "<tr>\n",
       "  <th>Method:</th>             <td>Least Squares</td>  <th>  F-statistic:       </th> <td>   334.4</td>\n",
       "</tr>\n",
       "<tr>\n",
       "  <th>Date:</th>             <td>Tue, 13 Jul 2021</td> <th>  Prob (F-statistic):</th> <td>1.15e-11</td>\n",
       "</tr>\n",
       "<tr>\n",
       "  <th>Time:</th>                 <td>22:08:56</td>     <th>  Log-Likelihood:    </th> <td> -53.270</td>\n",
       "</tr>\n",
       "<tr>\n",
       "  <th>No. Observations:</th>      <td>    17</td>      <th>  AIC:               </th> <td>   110.5</td>\n",
       "</tr>\n",
       "<tr>\n",
       "  <th>Df Residuals:</th>          <td>    15</td>      <th>  BIC:               </th> <td>   112.2</td>\n",
       "</tr>\n",
       "<tr>\n",
       "  <th>Df Model:</th>              <td>     1</td>      <th>                     </th>     <td> </td>   \n",
       "</tr>\n",
       "<tr>\n",
       "  <th>Covariance Type:</th>      <td>nonrobust</td>    <th>                     </th>     <td> </td>   \n",
       "</tr>\n",
       "</table>\n",
       "<table class=\"simpletable\">\n",
       "<tr>\n",
       "    <td></td>       <th>coef</th>     <th>std err</th>      <th>t</th>      <th>P>|t|</th>  <th>[0.025</th>    <th>0.975]</th>  \n",
       "</tr>\n",
       "<tr>\n",
       "  <th>const</th> <td>    1.4951</td> <td>    3.169</td> <td>    0.472</td> <td> 0.644</td> <td>   -5.260</td> <td>    8.250</td>\n",
       "</tr>\n",
       "<tr>\n",
       "  <th>x1</th>    <td>    9.8717</td> <td>    0.540</td> <td>   18.288</td> <td> 0.000</td> <td>    8.721</td> <td>   11.022</td>\n",
       "</tr>\n",
       "</table>\n",
       "<table class=\"simpletable\">\n",
       "<tr>\n",
       "  <th>Omnibus:</th>       <td> 4.576</td> <th>  Durbin-Watson:     </th> <td>   1.929</td>\n",
       "</tr>\n",
       "<tr>\n",
       "  <th>Prob(Omnibus):</th> <td> 0.101</td> <th>  Jarque-Bera (JB):  </th> <td>   1.488</td>\n",
       "</tr>\n",
       "<tr>\n",
       "  <th>Skew:</th>          <td>-0.198</td> <th>  Prob(JB):          </th> <td>   0.475</td>\n",
       "</tr>\n",
       "<tr>\n",
       "  <th>Kurtosis:</th>      <td> 1.606</td> <th>  Cond. No.          </th> <td>    13.3</td>\n",
       "</tr>\n",
       "</table><br/><br/>Notes:<br/>[1] Standard Errors assume that the covariance matrix of the errors is correctly specified."
      ],
      "text/plain": [
       "<class 'statsmodels.iolib.summary.Summary'>\n",
       "\"\"\"\n",
       "                            OLS Regression Results                            \n",
       "==============================================================================\n",
       "Dep. Variable:                      y   R-squared:                       0.957\n",
       "Model:                            OLS   Adj. R-squared:                  0.954\n",
       "Method:                 Least Squares   F-statistic:                     334.4\n",
       "Date:                Tue, 13 Jul 2021   Prob (F-statistic):           1.15e-11\n",
       "Time:                        22:08:56   Log-Likelihood:                -53.270\n",
       "No. Observations:                  17   AIC:                             110.5\n",
       "Df Residuals:                      15   BIC:                             112.2\n",
       "Df Model:                           1                                         \n",
       "Covariance Type:            nonrobust                                         \n",
       "==============================================================================\n",
       "                 coef    std err          t      P>|t|      [0.025      0.975]\n",
       "------------------------------------------------------------------------------\n",
       "const          1.4951      3.169      0.472      0.644      -5.260       8.250\n",
       "x1             9.8717      0.540     18.288      0.000       8.721      11.022\n",
       "==============================================================================\n",
       "Omnibus:                        4.576   Durbin-Watson:                   1.929\n",
       "Prob(Omnibus):                  0.101   Jarque-Bera (JB):                1.488\n",
       "Skew:                          -0.198   Prob(JB):                        0.475\n",
       "Kurtosis:                       1.606   Cond. No.                         13.3\n",
       "==============================================================================\n",
       "\n",
       "Notes:\n",
       "[1] Standard Errors assume that the covariance matrix of the errors is correctly specified.\n",
       "\"\"\""
      ]
     },
     "execution_count": 391,
     "metadata": {},
     "output_type": "execute_result"
    }
   ],
   "source": [
    "# Performing a summary to list out all the different parameters of the regression line fitted\n",
    "lr.summary()"
   ]
  },
  {
   "cell_type": "markdown",
   "id": "02c178fe",
   "metadata": {},
   "source": [
    "###### Coefficient for Hours : 9.87 and its corresponding p-value is very low, almost 0. That means the coefficient is statistically significant.\n",
    "\n",
    "###### R-squared value is 0.957, which means that 95.7% of the Scores variance can be explained by the Hours column using this line.\n",
    "\n",
    "###### Prob F-statistic has a very low p-value, practically zero, which gives us that the model fit is statistically significant.\n",
    "\n"
   ]
  },
  {
   "cell_type": "markdown",
   "id": "f26be343",
   "metadata": {},
   "source": [
    "###### Straight line equation Y =mX + c\n",
    "\n",
    "###### Scores = 9.871 * Hours + 1.495"
   ]
  },
  {
   "cell_type": "code",
   "execution_count": 392,
   "id": "d2f8c509",
   "metadata": {
    "scrolled": true
   },
   "outputs": [
    {
     "data": {
      "image/png": "[encoded data removed]",
      "text/plain": [
       "<Figure size 432x288 with 1 Axes>"
      ]
     },
     "metadata": {
      "needs_background": "light"
     },
     "output_type": "display_data"
    }
   ],
   "source": [
    "# Visualizing the regression line\n",
    "plt.scatter(X_train, y_train)\n",
    "plt.plot(X_train, 1.495 + 9.871*X_train, 'y')\n",
    "plt.title(\"Best Fit Line\", fontsize = 20)\n",
    "plt.xlabel('Hours')\n",
    "plt.ylabel('Scores')\n",
    "plt.show()"
   ]
  },
  {
   "cell_type": "markdown",
   "id": "3dad98dd",
   "metadata": {},
   "source": [
    "Linear regression model using training data"
   ]
  },
  {
   "cell_type": "markdown",
   "id": "5432367a",
   "metadata": {},
   "source": [
    "## (b) Residual Analysis\n",
    "###### Error = Actual y value - y predicted value"
   ]
  },
  {
   "cell_type": "code",
   "execution_count": 393,
   "id": "d161760c",
   "metadata": {},
   "outputs": [],
   "source": [
    "# Predicting y_value using traingn data of X\n",
    "y_train_pred = lr.predict(X_train_sm)\n",
    "\n",
    "# Creating residuals from the y_train data and predicted y_data\n",
    "res = (y_train - y_train_pred)"
   ]
  },
  {
   "cell_type": "code",
   "execution_count": 394,
   "id": "d740a9ae",
   "metadata": {
    "scrolled": true
   },
   "outputs": [
    {
     "name": "stderr",
     "output_type": "stream",
     "text": [
      "C:\\Users\\User\\Anaconda\\lib\\site-packages\\seaborn\\distributions.py:2557: FutureWarning: `distplot` is a deprecated function and will be removed in a future version. Please adapt your code to use either `displot` (a figure-level function with similar flexibility) or `histplot` (an axes-level function for histograms).\n",
      "  warnings.warn(msg, FutureWarning)\n"
     ]
    },
    {
     "data": {
      "image/png": "[encoded data removed]",
      "text/plain": [
       "<Figure size 432x288 with 1 Axes>"
      ]
     },
     "metadata": {
      "needs_background": "light"
     },
     "output_type": "display_data"
    }
   ],
   "source": [
    "# Plotting the histogram using the residual values\n",
    "fig = plt.figure()\n",
    "sns.distplot(res, bins = 15)\n",
    "plt.title('Error Terms', fontsize = 15)\n",
    "plt.xlabel('y_train - y_train_pred', fontsize = 15)\n",
    "plt.show()"
   ]
  },
  {
   "cell_type": "code",
   "execution_count": 395,
   "id": "ec222cb8",
   "metadata": {
    "scrolled": false
   },
   "outputs": [
    {
     "data": {
      "image/png": "[encoded data removed]",
      "text/plain": [
       "<Figure size 432x288 with 1 Axes>"
      ]
     },
     "metadata": {
      "needs_background": "light"
     },
     "output_type": "display_data"
    }
   ],
   "source": [
    "# Looking for any patterns in the residuals\n",
    "plt.scatter(X_train,res)\n",
    "plt.show()"
   ]
  },
  {
   "cell_type": "markdown",
   "id": "27060025",
   "metadata": {},
   "source": [
    "## (c) Predictions on the Test data "
   ]
  },
  {
   "cell_type": "code",
   "execution_count": 396,
   "id": "652ee451",
   "metadata": {},
   "outputs": [
    {
     "data": {
      "text/plain": [
       "array([28.14877107, 39.00765694, 34.07179972, 59.73825724, 16.30271375,\n",
       "       74.54582888, 69.60997167, 48.87937137])"
      ]
     },
     "execution_count": 396,
     "metadata": {},
     "output_type": "execute_result"
    }
   ],
   "source": [
    "# Adding a constant to X_test\n",
    "X_test_sm = sm.add_constant(X_test)\n",
    "\n",
    "# Predicting the y values corresponding to X_test_sm\n",
    "y_test_pred = lr.predict(X_test_sm)\n",
    "\n",
    "# Printing the first 15 predicted values\n",
    "y_test_pred"
   ]
  },
  {
   "cell_type": "markdown",
   "id": "4c35acd1",
   "metadata": {},
   "source": [
    "## (d) R2_square"
   ]
  },
  {
   "cell_type": "code",
   "execution_count": 397,
   "id": "15e22901",
   "metadata": {},
   "outputs": [],
   "source": [
    "# Importing r2_square\n",
    "from sklearn.metrics import r2_score"
   ]
  },
  {
   "cell_type": "code",
   "execution_count": 398,
   "id": "45205e85",
   "metadata": {},
   "outputs": [
    {
     "data": {
      "text/plain": [
       "0.9309458862687439"
      ]
     },
     "execution_count": 398,
     "metadata": {},
     "output_type": "execute_result"
    }
   ],
   "source": [
    "# Checking the R-squared value\n",
    "r_squared = r2_score(y_test, y_test_pred)\n",
    "r_squared"
   ]
  },
  {
   "cell_type": "markdown",
   "id": "a69fd5a4",
   "metadata": {},
   "source": [
    "The R² value by using the above code = 0.930 &\n",
    "If we can remember from the training data, the R² value = 0.957"
   ]
  },
  {
   "cell_type": "code",
   "execution_count": 399,
   "id": "71064aa2",
   "metadata": {},
   "outputs": [
    {
     "data": {
      "image/png": "[encoded data removed]",
      "text/plain": [
       "<Figure size 432x288 with 1 Axes>"
      ]
     },
     "metadata": {
      "needs_background": "light"
     },
     "output_type": "display_data"
    }
   ],
   "source": [
    "# Visualize the line on the test set\n",
    "plt.scatter(X_test, y_test)\n",
    "plt.plot(X_test, y_test_pred, 'g')\n",
    "plt.title(\"Best Fit Line\", fontsize = 20)\n",
    "plt.xlabel('Hours')\n",
    "plt.ylabel('Scores')\n",
    "plt.show()"
   ]
  },
  {
   "cell_type": "markdown",
   "id": "e538f0bf",
   "metadata": {},
   "source": [
    "## 7. By Sklearn Model"
   ]
  },
  {
   "cell_type": "code",
   "execution_count": 400,
   "id": "0d1c070f",
   "metadata": {},
   "outputs": [],
   "source": [
    "#Importing the sklearn package to build the model\n",
    "from sklearn.model_selection import train_test_split\n",
    "X_train_lm, X_test_lm, y_train_lm, y_test_lm = train_test_split(X, y, train_size = 0.7, test_size = 0.3, random_state = 100)                                                                "
   ]
  },
  {
   "cell_type": "markdown",
   "id": "256eb05e",
   "metadata": {},
   "source": [
    "For simple linear regression, we need to add a column to perform the regression fit properly"
   ]
  },
  {
   "cell_type": "code",
   "execution_count": 401,
   "id": "6ffbbce7",
   "metadata": {},
   "outputs": [
    {
     "name": "stdout",
     "output_type": "stream",
     "text": [
      "(17, 1)\n",
      "(8, 1)\n"
     ]
    }
   ],
   "source": [
    "# Shape of the train set without adding column\n",
    "X_train_lm.shape\n",
    "\n",
    "# Adding additional column to the train and test data\n",
    "X_train_lm = X_train_lm.reshape(-1,1)\n",
    "X_test_lm = X_test_lm.reshape(-1,1)\n",
    "\n",
    "print(X_train_lm.shape)\n",
    "print(X_test_lm.shape)"
   ]
  },
  {
   "cell_type": "code",
   "execution_count": 402,
   "id": "c1fe7540",
   "metadata": {},
   "outputs": [
    {
     "data": {
      "text/plain": [
       "LinearRegression()"
      ]
     },
     "execution_count": 402,
     "metadata": {},
     "output_type": "execute_result"
    }
   ],
   "source": [
    "#importing the LinearRegression library from the sklearn\n",
    "from sklearn.linear_model import LinearRegression\n",
    "\n",
    "# Creating an object of Linear Regression\n",
    "lm = LinearRegression()\n",
    "\n",
    "# Fit the model using .fit() method\n",
    "lm.fit(X_train_lm, y_train_lm)"
   ]
  },
  {
   "cell_type": "code",
   "execution_count": 403,
   "id": "2fc2f4c6",
   "metadata": {},
   "outputs": [
    {
     "name": "stdout",
     "output_type": "stream",
     "text": [
      "Intercept : 1.4951421092364043\n",
      "Slope : [9.87171443]\n"
     ]
    }
   ],
   "source": [
    "# Intercept value\n",
    "print(\"Intercept :\",lm.intercept_)\n",
    "\n",
    "# Slope value\n",
    "print('Slope :',lm.coef_)"
   ]
  },
  {
   "cell_type": "markdown",
   "id": "ec00ba5b",
   "metadata": {},
   "source": [
    "#### Straight line equation \n",
    "##### Y =mX + c\n",
    "##### Scores = 9.871 * Hours + 1.495 "
   ]
  },
  {
   "cell_type": "code",
   "execution_count": 404,
   "id": "bac3d71a",
   "metadata": {},
   "outputs": [],
   "source": [
    "# Making Predictions of y_value\n",
    "y_train_pred = lm.predict(X_train_lm)\n",
    "y_test_pred = lm.predict(X_test_lm)"
   ]
  },
  {
   "cell_type": "code",
   "execution_count": 405,
   "id": "34a83712",
   "metadata": {},
   "outputs": [
    {
     "name": "stdout",
     "output_type": "stream",
     "text": [
      "0.9570735354094693\n",
      "0.9309458862687439\n"
     ]
    }
   ],
   "source": [
    "# Comparing the r2 value of both train and test data\n",
    "print(r2_score(y_train,y_train_pred))\n",
    "print(r2_score(y_test,y_test_pred))"
   ]
  },
  {
   "cell_type": "code",
   "execution_count": 406,
   "id": "85cc5a26",
   "metadata": {},
   "outputs": [
    {
     "data": {
      "text/html": [
       "<div>\n",
       "<style scoped>\n",
       "    .dataframe tbody tr th:only-of-type {\n",
       "        vertical-align: middle;\n",
       "    }\n",
       "\n",
       "    .dataframe tbody tr th {\n",
       "        vertical-align: top;\n",
       "    }\n",
       "\n",
       "    .dataframe thead th {\n",
       "        text-align: right;\n",
       "    }\n",
       "</style>\n",
       "<table border=\"1\" class=\"dataframe\">\n",
       "  <thead>\n",
       "    <tr style=\"text-align: right;\">\n",
       "      <th></th>\n",
       "      <th>Actual</th>\n",
       "      <th>Predicted</th>\n",
       "    </tr>\n",
       "  </thead>\n",
       "  <tbody>\n",
       "    <tr>\n",
       "      <th>0</th>\n",
       "      <td>25</td>\n",
       "      <td>28.148771</td>\n",
       "    </tr>\n",
       "    <tr>\n",
       "      <th>1</th>\n",
       "      <td>35</td>\n",
       "      <td>39.007657</td>\n",
       "    </tr>\n",
       "    <tr>\n",
       "      <th>2</th>\n",
       "      <td>42</td>\n",
       "      <td>34.071800</td>\n",
       "    </tr>\n",
       "    <tr>\n",
       "      <th>3</th>\n",
       "      <td>62</td>\n",
       "      <td>59.738257</td>\n",
       "    </tr>\n",
       "    <tr>\n",
       "      <th>4</th>\n",
       "      <td>20</td>\n",
       "      <td>16.302714</td>\n",
       "    </tr>\n",
       "  </tbody>\n",
       "</table>\n",
       "</div>"
      ],
      "text/plain": [
       "   Actual  Predicted\n",
       "0      25  28.148771\n",
       "1      35  39.007657\n",
       "2      42  34.071800\n",
       "3      62  59.738257\n",
       "4      20  16.302714"
      ]
     },
     "execution_count": 406,
     "metadata": {},
     "output_type": "execute_result"
    }
   ],
   "source": [
    "\n",
    "# Comparing Actual vs Predicted\n",
    "dataset = pd.DataFrame({'Actual': y_test_lm, 'Predicted': y_test_pred})  \n",
    "dataset.head(5)"
   ]
  },
  {
   "cell_type": "markdown",
   "id": "f90291ab",
   "metadata": {},
   "source": [
    "#### Plotting the Bar graph to depict the difference between the actual and predicted value"
   ]
  },
  {
   "cell_type": "code",
   "execution_count": 407,
   "id": "8344d917",
   "metadata": {
    "scrolled": true
   },
   "outputs": [
    {
     "data": {
      "image/png": "[encoded data removed]",
      "text/plain": [
       "<Figure size 360x360 with 1 Axes>"
      ]
     },
     "metadata": {
      "needs_background": "light"
     },
     "output_type": "display_data"
    }
   ],
   "source": [
    "dataset.plot(kind='bar',figsize=(5,5))\n",
    "plt.grid(which='major', linewidth='0.5', color='black')\n",
    "plt.grid(which='minor', linewidth='0.5', color='blue')\n",
    "plt.show()"
   ]
  },
  {
   "cell_type": "markdown",
   "id": "e2b6c87e",
   "metadata": {},
   "source": [
    "#### Testing the model with our own data"
   ]
  },
  {
   "cell_type": "code",
   "execution_count": 408,
   "id": "6c26932f",
   "metadata": {},
   "outputs": [
    {
     "name": "stdout",
     "output_type": "stream",
     "text": [
      "Study Hours = 9.25\n",
      "Predicted Score = 92.80850057353504\n"
     ]
    }
   ],
   "source": [
    "hours = 9.25\n",
    "test = np.array([hours])\n",
    "test = test.reshape(-1, 1)\n",
    "pred_score = lm.predict(test)\n",
    "print(\"Study Hours = {}\".format(hours))\n",
    "print(\"Predicted Score = {}\".format(pred_score[0]))"
   ]
  },
  {
   "cell_type": "code",
   "execution_count": 409,
   "id": "7462723e",
   "metadata": {
    "scrolled": true
   },
   "outputs": [
    {
     "name": "stdout",
     "output_type": "stream",
     "text": [
      "Mean Squared Error: 25.678419573283847\n",
      "R-2: 0.9309458862687439\n"
     ]
    }
   ],
   "source": [
    "from sklearn import metrics\n",
    "print('Mean Squared Error:', metrics.mean_squared_error(y_test, y_test_pred))\n",
    "print('R-2:', metrics.r2_score(y_test, y_test_pred))"
   ]
  },
  {
   "cell_type": "markdown",
   "id": "d8da6be5",
   "metadata": {},
   "source": [
    "###### R-2 = 0.9309458862687439 which is really a better score for this model to make best fit.\n",
    "    "
   ]
  },
  {
   "cell_type": "markdown",
   "id": "d074fccf",
   "metadata": {},
   "source": [
    "### Observations:\n",
    "Sucessfully Predicted using Supervised ML from Student's Study Hours, Scores dataset.\n",
    "\n",
    "Visualisation : Univariate(Density Plot) & Bivariate Analysis(Reg Plot, PairPlot, Heatmap).\n",
    "\n",
    "For Model Building : Used Statsmodel & Sklearn.\n",
    "\n",
    "Both models have the same accuracy of 0.93.\n",
    "\n",
    "Finally predicted that they will obtain a 92.80 score if a student studies for 9.25 Hour/Day.\n"
   ]
  },
  {
   "cell_type": "code",
   "execution_count": null,
   "id": "74b46d13",
   "metadata": {},
   "outputs": [],
   "source": []
  }
 ],
 "metadata": {
  "kernelspec": {
   "display_name": "Python 3",
   "language": "python",
   "name": "python3"
  },
  "language_info": {
   "codemirror_mode": {
    "name": "ipython",
    "version": 3
   },
   "file_extension": ".py",
   "mimetype": "text/x-python",
   "name": "python",
   "nbconvert_exporter": "python",
   "pygments_lexer": "ipython3",
   "version": "3.8.8"
  }
 },
 "nbformat": 4,
 "nbformat_minor": 5
}
